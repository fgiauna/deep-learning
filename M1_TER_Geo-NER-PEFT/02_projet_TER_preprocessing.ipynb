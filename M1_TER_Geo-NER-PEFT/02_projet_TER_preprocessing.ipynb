{
 "cells": [
  {
   "cell_type": "markdown",
   "id": "26bc2937",
   "metadata": {},
   "source": [
    "# Preprocessing"
   ]
  },
  {
   "cell_type": "code",
   "execution_count": 1,
   "id": "4d020ef3",
   "metadata": {
    "ExecuteTime": {
     "end_time": "2023-02-23T10:08:33.249825Z",
     "start_time": "2023-02-23T10:08:33.129782Z"
    }
   },
   "outputs": [],
   "source": [
    "import pandas as pd"
   ]
  },
  {
   "cell_type": "code",
   "execution_count": 2,
   "id": "9a576381",
   "metadata": {
    "ExecuteTime": {
     "end_time": "2023-02-23T10:08:33.327202Z",
     "start_time": "2023-02-23T10:08:33.251416Z"
    }
   },
   "outputs": [
    {
     "data": {
      "text/html": [
       "<div>\n",
       "<style scoped>\n",
       "    .dataframe tbody tr th:only-of-type {\n",
       "        vertical-align: middle;\n",
       "    }\n",
       "\n",
       "    .dataframe tbody tr th {\n",
       "        vertical-align: top;\n",
       "    }\n",
       "\n",
       "    .dataframe thead th {\n",
       "        text-align: right;\n",
       "    }\n",
       "</style>\n",
       "<table border=\"1\" class=\"dataframe\">\n",
       "  <thead>\n",
       "    <tr style=\"text-align: right;\">\n",
       "      <th></th>\n",
       "      <th>line</th>\n",
       "      <th>section_name</th>\n",
       "      <th>section_artist</th>\n",
       "      <th>song_name</th>\n",
       "      <th>artist_name</th>\n",
       "      <th>song_id</th>\n",
       "    </tr>\n",
       "  </thead>\n",
       "  <tbody>\n",
       "    <tr>\n",
       "      <th>0</th>\n",
       "      <td>#FreestyleCassageDeNuques</td>\n",
       "      <td>Couplet Unique</td>\n",
       "      <td>JuL</td>\n",
       "      <td>Cassage de nuques, Pt. 2</td>\n",
       "      <td>JuL</td>\n",
       "      <td>3126568</td>\n",
       "    </tr>\n",
       "    <tr>\n",
       "      <th>1</th>\n",
       "      <td>T'as vu l'instru comme j'la nique</td>\n",
       "      <td>Couplet Unique</td>\n",
       "      <td>JuL</td>\n",
       "      <td>Cassage de nuques, Pt. 2</td>\n",
       "      <td>JuL</td>\n",
       "      <td>3126568</td>\n",
       "    </tr>\n",
       "    <tr>\n",
       "      <th>2</th>\n",
       "      <td>Quand j'rappe, j'les mets en panique</td>\n",
       "      <td>Couplet Unique</td>\n",
       "      <td>JuL</td>\n",
       "      <td>Cassage de nuques, Pt. 2</td>\n",
       "      <td>JuL</td>\n",
       "      <td>3126568</td>\n",
       "    </tr>\n",
       "    <tr>\n",
       "      <th>3</th>\n",
       "      <td>J'suis d'humeur volcanique</td>\n",
       "      <td>Couplet Unique</td>\n",
       "      <td>JuL</td>\n",
       "      <td>Cassage de nuques, Pt. 2</td>\n",
       "      <td>JuL</td>\n",
       "      <td>3126568</td>\n",
       "    </tr>\n",
       "    <tr>\n",
       "      <th>4</th>\n",
       "      <td>J'ai ma sacoche, faut pas qu'tu t'approches, j...</td>\n",
       "      <td>Couplet Unique</td>\n",
       "      <td>JuL</td>\n",
       "      <td>Cassage de nuques, Pt. 2</td>\n",
       "      <td>JuL</td>\n",
       "      <td>3126568</td>\n",
       "    </tr>\n",
       "    <tr>\n",
       "      <th>...</th>\n",
       "      <td>...</td>\n",
       "      <td>...</td>\n",
       "      <td>...</td>\n",
       "      <td>...</td>\n",
       "      <td>...</td>\n",
       "      <td>...</td>\n",
       "    </tr>\n",
       "    <tr>\n",
       "      <th>60657</th>\n",
       "      <td>La zone en personne, la zone en personne</td>\n",
       "      <td>Refrain 2</td>\n",
       "      <td>JuL</td>\n",
       "      <td>Asalto</td>\n",
       "      <td>JuL</td>\n",
       "      <td>4058051</td>\n",
       "    </tr>\n",
       "    <tr>\n",
       "      <th>60658</th>\n",
       "      <td>Top chrono, à deux sur la moto</td>\n",
       "      <td>Refrain 1</td>\n",
       "      <td>JuL</td>\n",
       "      <td>Asalto</td>\n",
       "      <td>JuL</td>\n",
       "      <td>4058051</td>\n",
       "    </tr>\n",
       "    <tr>\n",
       "      <th>60659</th>\n",
       "      <td>Asalto avec un bon poto</td>\n",
       "      <td>Refrain 1</td>\n",
       "      <td>JuL</td>\n",
       "      <td>Asalto</td>\n",
       "      <td>JuL</td>\n",
       "      <td>4058051</td>\n",
       "    </tr>\n",
       "    <tr>\n",
       "      <th>60660</th>\n",
       "      <td>On veut le magot, Plata O Plomo</td>\n",
       "      <td>Refrain 1</td>\n",
       "      <td>JuL</td>\n",
       "      <td>Asalto</td>\n",
       "      <td>JuL</td>\n",
       "      <td>4058051</td>\n",
       "    </tr>\n",
       "    <tr>\n",
       "      <th>60661</th>\n",
       "      <td>Que du Ju-Jul dans la vago</td>\n",
       "      <td>Refrain 1</td>\n",
       "      <td>JuL</td>\n",
       "      <td>Asalto</td>\n",
       "      <td>JuL</td>\n",
       "      <td>4058051</td>\n",
       "    </tr>\n",
       "  </tbody>\n",
       "</table>\n",
       "<p>60662 rows × 6 columns</p>\n",
       "</div>"
      ],
      "text/plain": [
       "                                                    line    section_name  \\\n",
       "0                              #FreestyleCassageDeNuques  Couplet Unique   \n",
       "1                      T'as vu l'instru comme j'la nique  Couplet Unique   \n",
       "2                   Quand j'rappe, j'les mets en panique  Couplet Unique   \n",
       "3                             J'suis d'humeur volcanique  Couplet Unique   \n",
       "4      J'ai ma sacoche, faut pas qu'tu t'approches, j...  Couplet Unique   \n",
       "...                                                  ...             ...   \n",
       "60657           La zone en personne, la zone en personne       Refrain 2   \n",
       "60658                     Top chrono, à deux sur la moto       Refrain 1   \n",
       "60659                            Asalto avec un bon poto       Refrain 1   \n",
       "60660                    On veut le magot, Plata O Plomo       Refrain 1   \n",
       "60661                         Que du Ju-Jul dans la vago       Refrain 1   \n",
       "\n",
       "      section_artist                 song_name artist_name  song_id  \n",
       "0                JuL  Cassage de nuques, Pt. 2         JuL  3126568  \n",
       "1                JuL  Cassage de nuques, Pt. 2         JuL  3126568  \n",
       "2                JuL  Cassage de nuques, Pt. 2         JuL  3126568  \n",
       "3                JuL  Cassage de nuques, Pt. 2         JuL  3126568  \n",
       "4                JuL  Cassage de nuques, Pt. 2         JuL  3126568  \n",
       "...              ...                       ...         ...      ...  \n",
       "60657            JuL                    Asalto         JuL  4058051  \n",
       "60658            JuL                    Asalto         JuL  4058051  \n",
       "60659            JuL                    Asalto         JuL  4058051  \n",
       "60660            JuL                    Asalto         JuL  4058051  \n",
       "60661            JuL                    Asalto         JuL  4058051  \n",
       "\n",
       "[60662 rows x 6 columns]"
      ]
     },
     "execution_count": 2,
     "metadata": {},
     "output_type": "execute_result"
    }
   ],
   "source": [
    "# Load csv as dataframe\n",
    "df = pd.read_csv('data/all_lyrics.csv')\n",
    "df"
   ]
  },
  {
   "cell_type": "code",
   "execution_count": 3,
   "id": "cce4b755",
   "metadata": {
    "ExecuteTime": {
     "end_time": "2023-02-23T10:08:33.334764Z",
     "start_time": "2023-02-23T10:08:33.328715Z"
    }
   },
   "outputs": [
    {
     "data": {
      "text/plain": [
       "835"
      ]
     },
     "execution_count": 3,
     "metadata": {},
     "output_type": "execute_result"
    }
   ],
   "source": [
    "# Number of songs\n",
    "df['song_name'].nunique()"
   ]
  },
  {
   "cell_type": "code",
   "execution_count": 4,
   "id": "afe568c0",
   "metadata": {
    "ExecuteTime": {
     "end_time": "2023-02-23T10:08:33.366363Z",
     "start_time": "2023-02-23T10:08:33.336895Z"
    },
    "scrolled": true
   },
   "outputs": [
    {
     "data": {
      "text/html": [
       "<div>\n",
       "<style scoped>\n",
       "    .dataframe tbody tr th:only-of-type {\n",
       "        vertical-align: middle;\n",
       "    }\n",
       "\n",
       "    .dataframe tbody tr th {\n",
       "        vertical-align: top;\n",
       "    }\n",
       "\n",
       "    .dataframe thead th {\n",
       "        text-align: right;\n",
       "    }\n",
       "</style>\n",
       "<table border=\"1\" class=\"dataframe\">\n",
       "  <thead>\n",
       "    <tr style=\"text-align: right;\">\n",
       "      <th></th>\n",
       "      <th>line</th>\n",
       "      <th>section_name</th>\n",
       "      <th>section_artist</th>\n",
       "      <th>song_name</th>\n",
       "      <th>artist_name</th>\n",
       "      <th>song_id</th>\n",
       "    </tr>\n",
       "  </thead>\n",
       "  <tbody>\n",
       "    <tr>\n",
       "      <th>1127</th>\n",
       "      <td>NaN</td>\n",
       "      <td>NaN</td>\n",
       "      <td>NaN</td>\n",
       "      <td>Du love à la rage</td>\n",
       "      <td>JuL</td>\n",
       "      <td>3859671</td>\n",
       "    </tr>\n",
       "    <tr>\n",
       "      <th>2497</th>\n",
       "      <td>NaN</td>\n",
       "      <td>NaN</td>\n",
       "      <td>NaN</td>\n",
       "      <td>La nuit je dors pas</td>\n",
       "      <td>JuL</td>\n",
       "      <td>4352488</td>\n",
       "    </tr>\n",
       "    <tr>\n",
       "      <th>8696</th>\n",
       "      <td>NaN</td>\n",
       "      <td>NaN</td>\n",
       "      <td>NaN</td>\n",
       "      <td>Ma zone</td>\n",
       "      <td>JuL</td>\n",
       "      <td>8204831</td>\n",
       "    </tr>\n",
       "    <tr>\n",
       "      <th>19380</th>\n",
       "      <td>NaN</td>\n",
       "      <td>NaN</td>\n",
       "      <td>NaN</td>\n",
       "      <td>Tu m’as pas dit</td>\n",
       "      <td>JuL</td>\n",
       "      <td>8204873</td>\n",
       "    </tr>\n",
       "    <tr>\n",
       "      <th>23405</th>\n",
       "      <td>NaN</td>\n",
       "      <td>NaN</td>\n",
       "      <td>NaN</td>\n",
       "      <td>Robocop</td>\n",
       "      <td>JuL</td>\n",
       "      <td>6957651</td>\n",
       "    </tr>\n",
       "    <tr>\n",
       "      <th>25922</th>\n",
       "      <td>NaN</td>\n",
       "      <td>NaN</td>\n",
       "      <td>NaN</td>\n",
       "      <td>Planète Rap Gratuit #6</td>\n",
       "      <td>JuL</td>\n",
       "      <td>5679289</td>\n",
       "    </tr>\n",
       "    <tr>\n",
       "      <th>25923</th>\n",
       "      <td>NaN</td>\n",
       "      <td>NaN</td>\n",
       "      <td>NaN</td>\n",
       "      <td>Planète Rap Gratuit #5</td>\n",
       "      <td>JuL</td>\n",
       "      <td>5679288</td>\n",
       "    </tr>\n",
       "    <tr>\n",
       "      <th>28474</th>\n",
       "      <td>NaN</td>\n",
       "      <td>NaN</td>\n",
       "      <td>NaN</td>\n",
       "      <td>Nique sa mère</td>\n",
       "      <td>JuL</td>\n",
       "      <td>3859667</td>\n",
       "    </tr>\n",
       "    <tr>\n",
       "      <th>30075</th>\n",
       "      <td>NaN</td>\n",
       "      <td>NaN</td>\n",
       "      <td>NaN</td>\n",
       "      <td>Moi (Liga One Industrie)</td>\n",
       "      <td>JuL</td>\n",
       "      <td>8204853</td>\n",
       "    </tr>\n",
       "    <tr>\n",
       "      <th>31000</th>\n",
       "      <td>NaN</td>\n",
       "      <td>NaN</td>\n",
       "      <td>NaN</td>\n",
       "      <td>Manu Chao</td>\n",
       "      <td>JuL</td>\n",
       "      <td>5094607</td>\n",
       "    </tr>\n",
       "    <tr>\n",
       "      <th>32818</th>\n",
       "      <td>NaN</td>\n",
       "      <td>NaN</td>\n",
       "      <td>NaN</td>\n",
       "      <td>Le son du 135</td>\n",
       "      <td>JuL</td>\n",
       "      <td>3859669</td>\n",
       "    </tr>\n",
       "    <tr>\n",
       "      <th>43226</th>\n",
       "      <td>NaN</td>\n",
       "      <td>NaN</td>\n",
       "      <td>NaN</td>\n",
       "      <td>Intro (Live au Vélodrome, Marseille)</td>\n",
       "      <td>JuL</td>\n",
       "      <td>8096963</td>\n",
       "    </tr>\n",
       "    <tr>\n",
       "      <th>43227</th>\n",
       "      <td>NaN</td>\n",
       "      <td>NaN</td>\n",
       "      <td>NaN</td>\n",
       "      <td>Interdit</td>\n",
       "      <td>JuL</td>\n",
       "      <td>3859672</td>\n",
       "    </tr>\n",
       "    <tr>\n",
       "      <th>51541</th>\n",
       "      <td>NaN</td>\n",
       "      <td>NaN</td>\n",
       "      <td>NaN</td>\n",
       "      <td>Essaie de nous suivre</td>\n",
       "      <td>JuL</td>\n",
       "      <td>3859673</td>\n",
       "    </tr>\n",
       "    <tr>\n",
       "      <th>53344</th>\n",
       "      <td>NaN</td>\n",
       "      <td>NaN</td>\n",
       "      <td>NaN</td>\n",
       "      <td>Dans mon secteur</td>\n",
       "      <td>JuL</td>\n",
       "      <td>8204845</td>\n",
       "    </tr>\n",
       "    <tr>\n",
       "      <th>54358</th>\n",
       "      <td>NaN</td>\n",
       "      <td>NaN</td>\n",
       "      <td>NaN</td>\n",
       "      <td>Contaminer</td>\n",
       "      <td>JuL</td>\n",
       "      <td>8204821</td>\n",
       "    </tr>\n",
       "  </tbody>\n",
       "</table>\n",
       "</div>"
      ],
      "text/plain": [
       "      line section_name section_artist                             song_name  \\\n",
       "1127   NaN          NaN            NaN                     Du love à la rage   \n",
       "2497   NaN          NaN            NaN                   La nuit je dors pas   \n",
       "8696   NaN          NaN            NaN                               Ma zone   \n",
       "19380  NaN          NaN            NaN                       Tu m’as pas dit   \n",
       "23405  NaN          NaN            NaN                               Robocop   \n",
       "25922  NaN          NaN            NaN                Planète Rap Gratuit #6   \n",
       "25923  NaN          NaN            NaN                Planète Rap Gratuit #5   \n",
       "28474  NaN          NaN            NaN                         Nique sa mère   \n",
       "30075  NaN          NaN            NaN              Moi (Liga One Industrie)   \n",
       "31000  NaN          NaN            NaN                             Manu Chao   \n",
       "32818  NaN          NaN            NaN                         Le son du 135   \n",
       "43226  NaN          NaN            NaN  Intro (Live au Vélodrome, Marseille)   \n",
       "43227  NaN          NaN            NaN                              Interdit   \n",
       "51541  NaN          NaN            NaN                 Essaie de nous suivre   \n",
       "53344  NaN          NaN            NaN                      Dans mon secteur   \n",
       "54358  NaN          NaN            NaN                            Contaminer   \n",
       "\n",
       "      artist_name  song_id  \n",
       "1127          JuL  3859671  \n",
       "2497          JuL  4352488  \n",
       "8696          JuL  8204831  \n",
       "19380         JuL  8204873  \n",
       "23405         JuL  6957651  \n",
       "25922         JuL  5679289  \n",
       "25923         JuL  5679288  \n",
       "28474         JuL  3859667  \n",
       "30075         JuL  8204853  \n",
       "31000         JuL  5094607  \n",
       "32818         JuL  3859669  \n",
       "43226         JuL  8096963  \n",
       "43227         JuL  3859672  \n",
       "51541         JuL  3859673  \n",
       "53344         JuL  8204845  \n",
       "54358         JuL  8204821  "
      ]
     },
     "execution_count": 4,
     "metadata": {},
     "output_type": "execute_result"
    }
   ],
   "source": [
    "# Check NA values\n",
    "df_na = df[df.isna().any(axis=1)]\n",
    "df_na"
   ]
  },
  {
   "cell_type": "code",
   "execution_count": 5,
   "id": "44fb7f29",
   "metadata": {
    "ExecuteTime": {
     "end_time": "2023-02-23T10:08:33.396560Z",
     "start_time": "2023-02-23T10:08:33.367651Z"
    }
   },
   "outputs": [],
   "source": [
    "# Drop those lines as they do not contain usefull information\n",
    "df_wo_na = df.dropna()"
   ]
  },
  {
   "cell_type": "code",
   "execution_count": 6,
   "id": "3412d899",
   "metadata": {
    "ExecuteTime": {
     "end_time": "2023-02-23T10:08:33.403598Z",
     "start_time": "2023-02-23T10:08:33.398046Z"
    },
    "scrolled": true
   },
   "outputs": [
    {
     "data": {
      "text/plain": [
       "array(['JuL', 'Kalif Hardcore', 'Jul', 'Mula B', 'Mula B, JuL',\n",
       "       'Mula B & JuL', 'Veazy', 'Nono', 'Jul, Moubarak', 'Morad', 'Elai',\n",
       "       'Rhove', 'Ger', 'JuL & Ger', 'Houari', 'Bil-K', 'Friz', 'Moubarak',\n",
       "       'Jul & Moubarak', 'JuL & Mula B', 'Mehdi YZ', 'Kamikaz', 'Bilk',\n",
       "       'Moubzer', 'Ninho & JuL', 'JuL & Ninho', 'Ninho', 'Soso Maness',\n",
       "       'Gambino', 'Zackmess', 'TK13, Zackmess & Moubarak', 'Metah',\n",
       "       'Oscar', 'Zackmess, Oscar, TK13 & Jul', 'Miklo', 'TK13',\n",
       "       'Zackmess, Oscar, TK13 & JuL', 'Jul & Wanted', 'Wanted',\n",
       "       'Les Moustiques', 'Jul (x2)', 'Nessbeal', 'Kalash Criminel', 'tag',\n",
       "       'Bengous', 'Loredana', 'Hors-ligne', 'Norey', 'Jul & Houari',\n",
       "       '20:49', 'Vald & JuL', 'Vald', 'JuL & Vald', 'Jul et Moubarak',\n",
       "       'Crixus', 'Nordo', 'Gips', 'Haouri', 'Houari (Ghetto Phénomène)',\n",
       "       'Veazy (Ghetto Phénomène)', 'Bil-K (Ghetto Phénomène)',\n",
       "       'Moubarak & Jul', 'Norey & Jul', 'Badjoe', 'Badjoe & Jul',\n",
       "       'Hors-Ligne & Jul', 'Hors-Ligne', 'Mehdi', 'Heuss L’enfoiré & Jul',\n",
       "       'Heuss L’enfoiré', 'Houari (Ghetto Phénomène) & Jul',\n",
       "       'Frizer (Ghetto Phénomène)', 'JuL & Alonzo', 'Alonzo', 'Norey FZ',\n",
       "       'Hors Ligne', 'Le K', 'Gambi', 'TK', 'A-Deal', 'Kamikaze',\n",
       "       'ensemble', 'Ensemble', 'Jul &Moubarak', 'Jul et  Sofiane',\n",
       "       'Sofiane', 'Jul et Sofiane', 'Doria', 'Naps', 'Morad & JuL',\n",
       "       'Morad, JuL & Naps', 'Soprano', 'Soprano & Jul', 'Jul & Soprano',\n",
       "       'Chant de foule + ?', '?', 'Abduh', 'Samara', 'Didine Canon 16',\n",
       "       'Landy', 'Houari & Jul', 'Norey fz', 'Kalif Hardcore & Jul',\n",
       "       'Djena Della', 'JuL & Djena Della', 'Jul & Alonzo', 'JuL & Oli',\n",
       "       'JuL, Bigflo & Oli', 'Oli', 'Bigflo', 'French The Kid', 'Bil-k',\n",
       "       'Frizer', 'Simo', 'M Huncho', 'Shay', 'JuL et Shay', 'Jul & Veazy',\n",
       "       'Demon One', 'TK & JuL', 'JUL & Kamikaz', 'JuL & Kamikaz',\n",
       "       'JUL & Houari', 'JUL', 'Jul & Hooss', 'Hooss', 'JuL & Omah Lay',\n",
       "       'Omah Lay', 'SCH', 'JuL, SCH & ensemble', 'Any Gonzalez',\n",
       "       'Jul & Any Gonzalez', 'Le Rat Luciano', 'Jul & Le Rat Luciano',\n",
       "       'Jul (& Benjamin Mendy)', 'Mehdi YZ (& Benjamin Mendy)',\n",
       "       'Klams (Sarrazin)', 'Coco Skilatchi (Sarrazin)', 'Jul ',\n",
       "       'Maître Gims', 'Maître Gims & Jul', 'Wejdene', 'JuL & ensemble',\n",
       "       'Bil-k - Veazy - Houari - Jul - Frizer', 'Bob', 'Yogo',\n",
       "       'Cheb Khalass', 'Jul & Cheb Khalass', 'Jul + Hors-Ligne',\n",
       "       'Jul et Aymane Serhani', 'Aymane Serhani', 'Sifflement',\n",
       "       'Bil-K & Jul', 'Houari & JuL', 'La Famax', 'JuL & La Famax',\n",
       "       'La Famax & JuL', '23:20', '17:42', '29:21', 'Mister You',\n",
       "       'Bim Bim', 'Marwa Loud', 'Jul & Marwa Loud', \"L'Algerino\", \"Bil'k\",\n",
       "       'Jimmy Sax & Jul', 'JuL & Veazy', 'Alonzo & JuL', \"L'Algérino\",\n",
       "       'JuL & Naps', 'Naps & JuL', 'JuL, Naps & ensemble',\n",
       "       \"Heuss L'enfoiré & JuL\", \"Heuss L'enfoiré\", 'JuL & Rhove',\n",
       "       \"Jul & Heuss L'enfoiré\", \"Jul & Heuss L'enfoiré,  les deux\",\n",
       "       'Le Rat Luciano & Jul', 'Je vide mon sac)', 'Baloo', 'Kalif',\n",
       "       'Jul & Julie Gonzalez', 'Julie Gonzalez', 'Lacrim', 'Gazo',\n",
       "       'Jul & Soso Maness', 'Soolking', 'Chœur', 'Choeur', 'tag, KVRA',\n",
       "       'KVRA', 'KVRA & Jul', '3robi', 'Kalash Criminel & Jul',\n",
       "       'Introducer tag', 'ANNA'], dtype=object)"
      ]
     },
     "execution_count": 6,
     "metadata": {},
     "output_type": "execute_result"
    }
   ],
   "source": [
    "# Check section_artist to handle featurings\n",
    "df_wo_na['section_artist'].unique()"
   ]
  },
  {
   "cell_type": "code",
   "execution_count": 7,
   "id": "c120dfc1",
   "metadata": {
    "ExecuteTime": {
     "end_time": "2023-02-23T10:08:33.431565Z",
     "start_time": "2023-02-23T10:08:33.404725Z"
    }
   },
   "outputs": [],
   "source": [
    "# Keep lines sang by JuL including those sang along an other artist (e.g: 'Mula B, JuL', 'Mula B & JuL'...)\n",
    "df_jul = df_wo_na.loc[df_wo_na['section_artist'].str.contains('jul', case=False)]"
   ]
  },
  {
   "cell_type": "code",
   "execution_count": 8,
   "id": "1a6adc97",
   "metadata": {
    "ExecuteTime": {
     "end_time": "2023-02-23T10:08:33.437779Z",
     "start_time": "2023-02-23T10:08:33.432866Z"
    }
   },
   "outputs": [
    {
     "data": {
      "text/plain": [
       "0                                #FreestyleCassageDeNuques\n",
       "1                        T'as vu l'instru comme j'la nique\n",
       "2                     Quand j'rappe, j'les mets en panique\n",
       "3                               J'suis d'humeur volcanique\n",
       "4        J'ai ma sacoche, faut pas qu'tu t'approches, j...\n",
       "                               ...                        \n",
       "60657             La zone en personne, la zone en personne\n",
       "60658                       Top chrono, à deux sur la moto\n",
       "60659                              Asalto avec un bon poto\n",
       "60660                      On veut le magot, Plata O Plomo\n",
       "60661                           Que du Ju-Jul dans la vago\n",
       "Name: line, Length: 54493, dtype: object"
      ]
     },
     "execution_count": 8,
     "metadata": {},
     "output_type": "execute_result"
    }
   ],
   "source": [
    "# Only needed column\n",
    "df_lyrics = df_jul['line']\n",
    "df_lyrics"
   ]
  },
  {
   "cell_type": "code",
   "execution_count": 24,
   "id": "c363e962",
   "metadata": {
    "ExecuteTime": {
     "end_time": "2023-02-23T09:36:21.633766Z",
     "start_time": "2023-02-23T09:36:21.558279Z"
    }
   },
   "outputs": [],
   "source": [
    "# Save DataFrame as csv\n",
    "df_lyrics.to_csv('data/jul_lyrics.csv')"
   ]
  }
 ],
 "metadata": {
  "kernelspec": {
   "display_name": "Python 3 (ipykernel)",
   "language": "python",
   "name": "python3"
  },
  "language_info": {
   "codemirror_mode": {
    "name": "ipython",
    "version": 3
   },
   "file_extension": ".py",
   "mimetype": "text/x-python",
   "name": "python",
   "nbconvert_exporter": "python",
   "pygments_lexer": "ipython3",
   "version": "3.9.16"
  },
  "varInspector": {
   "cols": {
    "lenName": 16,
    "lenType": 16,
    "lenVar": 40
   },
   "kernels_config": {
    "python": {
     "delete_cmd_postfix": "",
     "delete_cmd_prefix": "del ",
     "library": "var_list.py",
     "varRefreshCmd": "print(var_dic_list())"
    },
    "r": {
     "delete_cmd_postfix": ") ",
     "delete_cmd_prefix": "rm(",
     "library": "var_list.r",
     "varRefreshCmd": "cat(var_dic_list()) "
    }
   },
   "types_to_exclude": [
    "module",
    "function",
    "builtin_function_or_method",
    "instance",
    "_Feature"
   ],
   "window_display": false
  }
 },
 "nbformat": 4,
 "nbformat_minor": 5
}
